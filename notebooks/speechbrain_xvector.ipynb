{
 "cells": [
  {
   "cell_type": "code",
   "execution_count": 11,
   "id": "0b38ed45",
   "metadata": {},
   "outputs": [],
   "source": [
    "from pathlib import Path\n",
    "import pandas as pd\n",
    "import numpy as np\n",
    "\n",
    "import torchaudio\n",
    "from speechbrain.pretrained import EncoderClassifier\n",
    "from tqdm.auto import tqdm"
   ]
  },
  {
   "cell_type": "code",
   "execution_count": 2,
   "id": "902cad97",
   "metadata": {},
   "outputs": [],
   "source": [
    "DATA_PATH = Path(\"../data\")\n",
    "CLASSES = ['yes', 'no', 'up', 'down', 'left', 'right', 'on', 'off', 'stop', 'go']"
   ]
  },
  {
   "cell_type": "code",
   "execution_count": 3,
   "id": "4fc18344",
   "metadata": {},
   "outputs": [],
   "source": [
    "classifier = EncoderClassifier.from_hparams(\n",
    "    source=\"speechbrain/google_speech_command_xvector\", \n",
    "    savedir=\"pretrained_models/google_speech_command_xvector\",\n",
    "    run_opts={\"device\":\"cuda\"},\n",
    ")\n"
   ]
  },
  {
   "cell_type": "code",
   "execution_count": 4,
   "id": "86d1e06c",
   "metadata": {},
   "outputs": [],
   "source": [
    "# out_prob, score, index, text_lab = classifier.classify_file(str(DATA_PATH / \"test\" / '0a0b032a8850131875bf.wav'))\n",
    "# print(text_lab)"
   ]
  },
  {
   "cell_type": "code",
   "execution_count": 5,
   "id": "dbd87ed7",
   "metadata": {},
   "outputs": [
    {
     "data": {
      "application/vnd.jupyter.widget-view+json": {
       "model_id": "0c0ca9cc2fed42b3901b7f99e06345fd",
       "version_major": 2,
       "version_minor": 0
      },
      "text/plain": [
       "  0%|          | 0/29620 [00:00<?, ?it/s]"
      ]
     },
     "metadata": {},
     "output_type": "display_data"
    }
   ],
   "source": [
    "pred = []\n",
    "audio_filepaths = sorted(list((DATA_PATH / \"test\").glob(\"*.wav\")))\n",
    "for audiofile in tqdm(audio_filepaths):\n",
    "    out_prob, score, index, text_lab = classifier.classify_file(str(audiofile))\n",
    "    pred.append(text_lab[0])"
   ]
  },
  {
   "cell_type": "code",
   "execution_count": 13,
   "id": "e7ba2d29",
   "metadata": {},
   "outputs": [
    {
     "data": {
      "text/plain": [
       "yes        2904\n",
       "down       2892\n",
       "no         2868\n",
       "right      2834\n",
       "off        2796\n",
       "up         2779\n",
       "stop       2774\n",
       "left       2761\n",
       "on         2696\n",
       "go         2670\n",
       "silence    1351\n",
       "unknown     295\n",
       "dtype: int64"
      ]
     },
     "execution_count": 13,
     "metadata": {},
     "output_type": "execute_result"
    }
   ],
   "source": [
    "pd.Series(pred).value_counts()"
   ]
  },
  {
   "cell_type": "code",
   "execution_count": 14,
   "id": "5d9fca45",
   "metadata": {},
   "outputs": [],
   "source": [
    "df = pd.DataFrame(data={\n",
    "    \"id\": [a.stem for a in audio_filepaths],\n",
    "    \"category\": pred,\n",
    "})"
   ]
  },
  {
   "cell_type": "code",
   "execution_count": 15,
   "id": "8f09f6f4",
   "metadata": {},
   "outputs": [],
   "source": [
    "df.to_csv(\"submission.csv\", index=False)"
   ]
  },
  {
   "cell_type": "code",
   "execution_count": null,
   "id": "8a91c2d5",
   "metadata": {},
   "outputs": [],
   "source": [
    "! rm *.wav"
   ]
  }
 ],
 "metadata": {
  "kernelspec": {
   "display_name": "Python 3 (ipykernel)",
   "language": "python",
   "name": "python3"
  },
  "language_info": {
   "codemirror_mode": {
    "name": "ipython",
    "version": 3
   },
   "file_extension": ".py",
   "mimetype": "text/x-python",
   "name": "python",
   "nbconvert_exporter": "python",
   "pygments_lexer": "ipython3",
   "version": "3.8.10"
  }
 },
 "nbformat": 4,
 "nbformat_minor": 5
}
