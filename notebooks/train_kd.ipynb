{
 "cells": [
  {
   "cell_type": "code",
   "execution_count": 1,
   "metadata": {},
   "outputs": [
    {
     "name": "stdout",
     "output_type": "stream",
     "text": [
      "Collecting KD-Lib\n",
      "  Downloading KD_Lib-0.0.29-py2.py3-none-any.whl (61 kB)\n",
      "\u001b[K     |████████████████████████████████| 61 kB 150 kB/s eta 0:00:01\n",
      "\u001b[?25hCollecting torchvision==0.9.1\n",
      "  Downloading torchvision-0.9.1-cp38-cp38-manylinux1_x86_64.whl (17.4 MB)\n",
      "\u001b[K     |████████████████████████████████| 17.4 MB 11.2 MB/s eta 0:00:01\n",
      "\u001b[?25hCollecting numpy==1.18.1\n",
      "  Downloading numpy-1.18.1-cp38-cp38-manylinux1_x86_64.whl (20.6 MB)\n",
      "\u001b[K     |████████████████████████████████| 20.6 MB 34.1 MB/s eta 0:00:01\n",
      "\u001b[?25hCollecting sphinx-rtd-theme==0.5.0\n",
      "  Downloading sphinx_rtd_theme-0.5.0-py2.py3-none-any.whl (10.8 MB)\n",
      "\u001b[K     |████████████████████████████████| 10.8 MB 11.6 MB/s eta 0:00:01\n",
      "\u001b[?25hCollecting watchdog==0.9.0\n",
      "  Downloading watchdog-0.9.0.tar.gz (85 kB)\n",
      "\u001b[K     |████████████████████████████████| 85 kB 3.7 MB/s  eta 0:00:01\n",
      "\u001b[?25hCollecting tox==3.5.2\n",
      "  Downloading tox-3.5.2-py2.py3-none-any.whl (52 kB)\n",
      "\u001b[K     |████████████████████████████████| 52 kB 1.7 MB/s  eta 0:00:01\n",
      "\u001b[?25hCollecting pytest-runner==4.2\n",
      "  Downloading pytest_runner-4.2-py2.py3-none-any.whl (9.4 kB)\n",
      "Collecting bumpversion==0.5.3\n",
      "  Downloading bumpversion-0.5.3-py2.py3-none-any.whl (22 kB)\n",
      "Collecting torch==1.8.1\n",
      "  Downloading torch-1.8.1-cp38-cp38-manylinux1_x86_64.whl (804.1 MB)\n",
      "\u001b[K     |█�^C██████████████████████████▎ | 759.6 MB 10.5 MB/s eta 0:00:05    |▋                               | 14.2 MB 11.3 MB/s eta 0:01:11     |█▋                              | 41.6 MB 5.3 MB/s eta 0:02:24     |█▊                              | 42.7 MB 11.6 MB/s eta 0:01:06     |█▉                              | 44.9 MB 11.6 MB/s eta 0:01:06     |███▊                            | 92.6 MB 10.6 MB/s eta 0:01:08     |████▌                           | 112.6 MB 9.9 MB/s eta 0:01:10     |█████                           | 123.2 MB 11.2 MB/s eta 0:01:01     |█████▏                          | 130.8 MB 7.8 MB/s eta 0:01:27     |██████                          | 148.4 MB 10.8 MB/s eta 0:01:01     |████████                        | 202.1 MB 12.2 MB/s eta 0:00:50     |████████▏                       | 205.0 MB 12.2 MB/s eta 0:00:50     |████████▎                       | 206.6 MB 12.2 MB/s eta 0:00:50     |████████▎                       | 208.4 MB 12.2 MB/s eta 0:00:49     |████████▍                       | 210.6 MB 12.2 MB/s eta 0:00:49     |█████████▍                      | 235.1 MB 12.0 MB/s eta 0:00:48     |██████████▏                     | 255.9 MB 9.0 MB/s eta 0:01:01     |██████████▎                     | 256.9 MB 9.0 MB/s eta 0:01:01     |██████████▎                     | 257.5 MB 9.0 MB/s eta 0:01:01     |██████████▎                     | 259.6 MB 9.0 MB/s eta 0:01:01     |████████████▍                   | 312.1 MB 9.8 MB/s eta 0:00:51     |████████████▌                   | 313.7 MB 9.8 MB/s eta 0:00:51     |████████████▌                   | 314.7 MB 9.8 MB/s eta 0:00:51     |████████████▋                   | 315.7 MB 9.8 MB/s eta 0:00:51     |█████████████▊                  | 344.4 MB 11.9 MB/s eta 0:00:39     |██████████████▊                 | 369.3 MB 10.8 MB/s eta 0:00:41     |██████████████▊                 | 369.9 MB 10.8 MB/s eta 0:00:41     |████████████████▉               | 422.2 MB 4.6 MB/s eta 0:01:23     |███████████████████             | 479.1 MB 10.3 MB/s eta 0:00:32��██            | 503.6 MB 11.4 MB/s eta 0:00:27     |████████████████████▎           | 510.0 MB 9.3 MB/s eta 0:00:32     |████████████████████▎           | 510.6 MB 9.3 MB/s eta 0:00:32     |████████████████████▌           | 515.4 MB 9.3 MB/s eta 0:00:31     |████████████████████▋           | 517.5 MB 9.3 MB/s eta 0:00:31     |█████████████████████           | 530.1 MB 5.5 MB/s eta 0:00:50     |█████████████████████▉          | 549.1 MB 12.2 MB/s eta 0:00:21��█████████████████       | 625.7 MB 7.6 MB/s eta 0:00:24     |█████████████████████████▏      | 631.8 MB 7.6 MB/s eta 0:00:23     |█████████████████████████████▋  | 743.4 MB 10.2 MB/s eta 0:00:06\n",
      "\n",
      "\u001b[?25h\u001b[31mERROR: Operation cancelled by user\u001b[0m\n"
     ]
    }
   ],
   "source": [
    "%%capture\n",
    "! pip install KD-Lib"
   ]
  },
  {
   "cell_type": "code",
   "execution_count": null,
   "metadata": {},
   "outputs": [],
   "source": []
  }
 ],
 "metadata": {
  "interpreter": {
   "hash": "3f54bea1301240e8a260b91e032dadd75d857f6331135606745e81825e79913d"
  },
  "kernelspec": {
   "display_name": "Python 3.8.10 ('.venv': venv)",
   "language": "python",
   "name": "python3"
  },
  "language_info": {
   "codemirror_mode": {
    "name": "ipython",
    "version": 3
   },
   "file_extension": ".py",
   "mimetype": "text/x-python",
   "name": "python",
   "nbconvert_exporter": "python",
   "pygments_lexer": "ipython3",
   "version": "3.8.10"
  },
  "orig_nbformat": 4
 },
 "nbformat": 4,
 "nbformat_minor": 2
}
